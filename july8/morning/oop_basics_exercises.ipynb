{
 "cells": [
  {
   "cell_type": "markdown",
   "id": "518adb61",
   "metadata": {},
   "source": [
    "# OOP Warm‑Ups — 20 Easy Exercises\n",
    "Work through each exercise. Reveal the solution only after attempting."
   ]
  },
  {
   "cell_type": "markdown",
   "id": "03c38bf9",
   "metadata": {},
   "source": [
    "## 1. Person Greeter\n",
    "\n",
    "Create a class `Person` that stores a `name`.\n",
    "Add a method `greet()` that returns `\"Hello, I am <name>.\"`."
   ]
  },
  {
   "cell_type": "code",
   "execution_count": null,
   "id": "1e407f06",
   "metadata": {},
   "outputs": [],
   "source": [
    "class Person:\n",
    "    # TODO: write __init__ and greet\n",
    "    ...\n",
    "\n",
    "p = Person(\"Ada\")\n",
    "assert p.greet() == \"Hello, I am Ada.\"\n"
   ]
  },
  {
   "cell_type": "markdown",
   "id": "d1e6699f",
   "metadata": {},
   "source": [
    "<details>\n",
    "<summary><strong>Instructor solution (click to reveal)</strong></summary>\n",
    "\n",
    "```python\n",
    "class Person:\n",
    "    def __init__(self, name):\n",
    "        self.name = name\n",
    "    def greet(self):\n",
    "        return f\"Hello, I am {self.name}.\"\n",
    "```\n",
    "</details>"
   ]
  },
  {
   "cell_type": "markdown",
   "id": "3b10c110",
   "metadata": {},
   "source": [
    "## 2. Dog Bark\n",
    "\n",
    "Define a class `Dog` with an attribute `name` and a method `bark()` that returns `\"Woof!\"`."
   ]
  },
  {
   "cell_type": "code",
   "execution_count": null,
   "id": "979f79d3",
   "metadata": {},
   "outputs": [],
   "source": [
    "class Dog:\n",
    "    ...\n",
    "\n",
    "d = Dog(\"Fido\")\n",
    "assert d.bark() == \"Woof!\"\n"
   ]
  },
  {
   "cell_type": "markdown",
   "id": "c9f03813",
   "metadata": {},
   "source": [
    "<details>\n",
    "<summary><strong>Instructor solution (click to reveal)</strong></summary>\n",
    "\n",
    "```python\n",
    "class Dog:\n",
    "    def __init__(self, name):\n",
    "        self.name = name\n",
    "    def bark(self):\n",
    "        return \"Woof!\"\n",
    "```\n",
    "</details>"
   ]
  },
  {
   "cell_type": "markdown",
   "id": "aa29e6f0",
   "metadata": {},
   "source": [
    "## 3. Rectangle Area\n",
    "\n",
    "Write class `Rectangle` storing `width` and `height`.\n",
    "Add method `area()`."
   ]
  },
  {
   "cell_type": "code",
   "execution_count": null,
   "id": "1f025048",
   "metadata": {},
   "outputs": [],
   "source": [
    "class Rectangle:\n",
    "    ...\n",
    "\n",
    "r = Rectangle(3, 4)\n",
    "assert r.area() == 12\n"
   ]
  },
  {
   "cell_type": "markdown",
   "id": "364f4610",
   "metadata": {},
   "source": [
    "<details>\n",
    "<summary><strong>Instructor solution (click to reveal)</strong></summary>\n",
    "\n",
    "```python\n",
    "class Rectangle:\n",
    "    def __init__(self, width, height):\n",
    "        self.width, self.height = width, height\n",
    "    def area(self):\n",
    "        return self.width * self.height\n",
    "```\n",
    "</details>"
   ]
  },
  {
   "cell_type": "markdown",
   "id": "6212cfb7",
   "metadata": {},
   "source": [
    "## 4. Counter\n",
    "\n",
    "Implement class `Counter` starting at 0 with methods `inc()`, `dec()`, and `value()`."
   ]
  },
  {
   "cell_type": "code",
   "execution_count": null,
   "id": "47122e14",
   "metadata": {},
   "outputs": [],
   "source": [
    "class Counter:\n",
    "    ...\n",
    "\n",
    "c = Counter()\n",
    "c.inc(); c.inc(); c.dec()\n",
    "assert c.value() == 1\n"
   ]
  },
  {
   "cell_type": "markdown",
   "id": "7cb4568f",
   "metadata": {},
   "source": [
    "<details>\n",
    "<summary><strong>Instructor solution (click to reveal)</strong></summary>\n",
    "\n",
    "```python\n",
    "class Counter:\n",
    "    def __init__(self):\n",
    "        self._count = 0\n",
    "    def inc(self):\n",
    "        self._count += 1\n",
    "    def dec(self):\n",
    "        self._count -= 1\n",
    "    def value(self):\n",
    "        return self._count\n",
    "```\n",
    "</details>"
   ]
  },
  {
   "cell_type": "markdown",
   "id": "f1baf998",
   "metadata": {},
   "source": [
    "## 5. BankAccount\n",
    "\n",
    "Class `BankAccount` with starting `balance`.\n",
    "Methods: `deposit(amount)`, `withdraw(amount)`, `get_balance()`."
   ]
  },
  {
   "cell_type": "code",
   "execution_count": null,
   "id": "2e98f365",
   "metadata": {},
   "outputs": [],
   "source": [
    "class BankAccount:\n",
    "    ...\n",
    "\n",
    "acct = BankAccount(100)\n",
    "acct.deposit(50)\n",
    "acct.withdraw(30)\n",
    "assert acct.get_balance() == 120\n"
   ]
  },
  {
   "cell_type": "markdown",
   "id": "1b356bea",
   "metadata": {},
   "source": [
    "<details>\n",
    "<summary><strong>Instructor solution (click to reveal)</strong></summary>\n",
    "\n",
    "```python\n",
    "class BankAccount:\n",
    "    def __init__(self, balance=0):\n",
    "        self._bal = balance\n",
    "    def deposit(self, amt):\n",
    "        self._bal += amt\n",
    "    def withdraw(self, amt):\n",
    "        self._bal -= amt\n",
    "    def get_balance(self):\n",
    "        return self._bal\n",
    "```\n",
    "</details>"
   ]
  },
  {
   "cell_type": "markdown",
   "id": "ee53f01e",
   "metadata": {},
   "source": [
    "## 6. Student Grades\n",
    "\n",
    "Class `Student` stores `name` and list of `grades` (default empty).\n",
    "Method `add_grade(score)` and `average()`."
   ]
  },
  {
   "cell_type": "code",
   "execution_count": null,
   "id": "b60e363e",
   "metadata": {},
   "outputs": [],
   "source": [
    "class Student:\n",
    "    ...\n",
    "\n",
    "s = Student(\"Mia\")\n",
    "for g in [90,80,100]:\n",
    "    s.add_grade(g)\n",
    "assert round(s.average(),1) == 90.0\n"
   ]
  },
  {
   "cell_type": "markdown",
   "id": "53bfe470",
   "metadata": {},
   "source": [
    "<details>\n",
    "<summary><strong>Instructor solution (click to reveal)</strong></summary>\n",
    "\n",
    "```python\n",
    "class Student:\n",
    "    def __init__(self, name):\n",
    "        self.name = name\n",
    "        self.grades = []\n",
    "    def add_grade(self, score):\n",
    "        self.grades.append(score)\n",
    "    def average(self):\n",
    "        return sum(self.grades)/len(self.grades)\n",
    "```\n",
    "</details>"
   ]
  },
  {
   "cell_type": "markdown",
   "id": "ccfb408d",
   "metadata": {},
   "source": [
    "## 7. Book Description\n",
    "\n",
    "Class `Book` with `title` and `author`.\n",
    "Method `description()` returns `\"<title> by <author>\"`."
   ]
  },
  {
   "cell_type": "code",
   "execution_count": null,
   "id": "221cf4be",
   "metadata": {},
   "outputs": [],
   "source": [
    "class Book:\n",
    "    ...\n",
    "\n",
    "b = Book(\"1984\", \"Orwell\")\n",
    "assert b.description() == \"1984 by Orwell\"\n"
   ]
  },
  {
   "cell_type": "markdown",
   "id": "cbae6fcc",
   "metadata": {},
   "source": [
    "<details>\n",
    "<summary><strong>Instructor solution (click to reveal)</strong></summary>\n",
    "\n",
    "```python\n",
    "class Book:\n",
    "    def __init__(self, title, author):\n",
    "        self.title, self.author = title, author\n",
    "    def description(self):\n",
    "        return f\"{self.title} by {self.author}\"\n",
    "```\n",
    "</details>"
   ]
  },
  {
   "cell_type": "markdown",
   "id": "3dab8a52",
   "metadata": {},
   "source": [
    "## 8. Circle Circumference\n",
    "\n",
    "Class `Circle` with `radius`.\n",
    "Method `circumference()` returns 2πr (use `math.pi`)."
   ]
  },
  {
   "cell_type": "code",
   "execution_count": null,
   "id": "c81364a8",
   "metadata": {},
   "outputs": [],
   "source": [
    "import math\n",
    "class Circle:\n",
    "    ...\n",
    "\n",
    "c = Circle(1)\n",
    "assert abs(c.circumference() - 2*math.pi) < 1e-6\n"
   ]
  },
  {
   "cell_type": "markdown",
   "id": "bad3cee7",
   "metadata": {},
   "source": [
    "<details>\n",
    "<summary><strong>Instructor solution (click to reveal)</strong></summary>\n",
    "\n",
    "```python\n",
    "import math\n",
    "class Circle:\n",
    "    def __init__(self, radius):\n",
    "        self.radius = radius\n",
    "    def circumference(self):\n",
    "        return 2*math.pi*self.radius\n",
    "```\n",
    "</details>"
   ]
  },
  {
   "cell_type": "markdown",
   "id": "7dca2376",
   "metadata": {},
   "source": [
    "## 9. Temperature Converter\n",
    "\n",
    "Class `Temperature` storing a Celsius value.\n",
    "Method `to_fahrenheit()` returns °F."
   ]
  },
  {
   "cell_type": "code",
   "execution_count": null,
   "id": "af599351",
   "metadata": {},
   "outputs": [],
   "source": [
    "class Temperature:\n",
    "    ...\n",
    "\n",
    "t = Temperature(0)\n",
    "assert t.to_fahrenheit() == 32\n"
   ]
  },
  {
   "cell_type": "markdown",
   "id": "e12a255c",
   "metadata": {},
   "source": [
    "<details>\n",
    "<summary><strong>Instructor solution (click to reveal)</strong></summary>\n",
    "\n",
    "```python\n",
    "class Temperature:\n",
    "    def __init__(self, celsius):\n",
    "        self.c = celsius\n",
    "    def to_fahrenheit(self):\n",
    "        return self.c * 9/5 + 32\n",
    "```\n",
    "</details>"
   ]
  },
  {
   "cell_type": "markdown",
   "id": "81a8278e",
   "metadata": {},
   "source": [
    "## 10. Car Odometer\n",
    "\n",
    "Class `Car` with `model` and `odometer` (default 0).\n",
    "Method `drive(miles)` adds to odometer."
   ]
  },
  {
   "cell_type": "code",
   "execution_count": null,
   "id": "64cdd284",
   "metadata": {},
   "outputs": [],
   "source": [
    "class Car:\n",
    "    ...\n",
    "\n",
    "car = Car(\"Civic\")\n",
    "car.drive(10)\n",
    "car.drive(5)\n",
    "assert car.odometer == 15\n"
   ]
  },
  {
   "cell_type": "markdown",
   "id": "bfcd994a",
   "metadata": {},
   "source": [
    "<details>\n",
    "<summary><strong>Instructor solution (click to reveal)</strong></summary>\n",
    "\n",
    "```python\n",
    "class Car:\n",
    "    def __init__(self, model):\n",
    "        self.model = model\n",
    "        self.odometer = 0\n",
    "    def drive(self, miles):\n",
    "        self.odometer += miles\n",
    "```\n",
    "</details>"
   ]
  },
  {
   "cell_type": "markdown",
   "id": "2dc65cbf",
   "metadata": {},
   "source": [
    "## 11. Movie __str__\n",
    "\n",
    "Class `Movie` with `title` and `year`.\n",
    "Override `__str__` to return `\"<title> (<year>)\"`."
   ]
  },
  {
   "cell_type": "code",
   "execution_count": null,
   "id": "a92a2b9c",
   "metadata": {},
   "outputs": [],
   "source": [
    "class Movie:\n",
    "    ...\n",
    "\n",
    "m = Movie(\"Up\", 2009)\n",
    "assert str(m) == \"Up (2009)\"\n"
   ]
  },
  {
   "cell_type": "markdown",
   "id": "3fa8b594",
   "metadata": {},
   "source": [
    "<details>\n",
    "<summary><strong>Instructor solution (click to reveal)</strong></summary>\n",
    "\n",
    "```python\n",
    "class Movie:\n",
    "    def __init__(self, title, year):\n",
    "        self.title, self.year = title, year\n",
    "    def __str__(self):\n",
    "        return f\"{self.title} ({self.year})\"\n",
    "```\n",
    "</details>"
   ]
  },
  {
   "cell_type": "markdown",
   "id": "b67a5f1d",
   "metadata": {},
   "source": [
    "## 12. Playlist\n",
    "\n",
    "Class `Playlist` keeps list of song names.\n",
    "Methods: `add_song(name)` and `list_songs()`."
   ]
  },
  {
   "cell_type": "code",
   "execution_count": null,
   "id": "e752c42e",
   "metadata": {},
   "outputs": [],
   "source": [
    "class Playlist:\n",
    "    ...\n",
    "\n",
    "pl = Playlist()\n",
    "pl.add_song(\"Song A\")\n",
    "assert pl.list_songs() == [\"Song A\"]\n"
   ]
  },
  {
   "cell_type": "markdown",
   "id": "d377e8e3",
   "metadata": {},
   "source": [
    "<details>\n",
    "<summary><strong>Instructor solution (click to reveal)</strong></summary>\n",
    "\n",
    "```python\n",
    "class Playlist:\n",
    "    def __init__(self):\n",
    "        self._songs = []\n",
    "    def add_song(self, name):\n",
    "        self._songs.append(name)\n",
    "    def list_songs(self):\n",
    "        return self._songs\n",
    "```\n",
    "</details>"
   ]
  },
  {
   "cell_type": "markdown",
   "id": "029a74c9",
   "metadata": {},
   "source": [
    "## 13. Simple Timer\n",
    "\n",
    "Class `Timer`.\n",
    "Methods: `start()`, `stop()` returning elapsed seconds (hint: `time.time()`)."
   ]
  },
  {
   "cell_type": "code",
   "execution_count": null,
   "id": "f72caec5",
   "metadata": {},
   "outputs": [],
   "source": [
    "import time\n",
    "class Timer:\n",
    "    ...\n",
    "\n",
    "tm = Timer()\n",
    "tm.start()\n",
    "elapsed = tm.stop()\n",
    "assert elapsed >= 0\n"
   ]
  },
  {
   "cell_type": "markdown",
   "id": "72680aa0",
   "metadata": {},
   "source": [
    "<details>\n",
    "<summary><strong>Instructor solution (click to reveal)</strong></summary>\n",
    "\n",
    "```python\n",
    "import time\n",
    "class Timer:\n",
    "    def start(self):\n",
    "        self._t0 = time.time()\n",
    "    def stop(self):\n",
    "        return time.time() - self._t0\n",
    "```\n",
    "</details>"
   ]
  },
  {
   "cell_type": "markdown",
   "id": "3e7fd7e3",
   "metadata": {},
   "source": [
    "## 14. Vector2D Add\n",
    "\n",
    "Class `Vector2D` with `x`,`y`.\n",
    "Method `add(other)` returns new Vector2D with summed components."
   ]
  },
  {
   "cell_type": "code",
   "execution_count": null,
   "id": "f20ff3a9",
   "metadata": {},
   "outputs": [],
   "source": [
    "class Vector2D:\n",
    "    ...\n",
    "\n",
    "v1, v2 = Vector2D(1,2), Vector2D(3,4)\n",
    "v3 = v1.add(v2)\n",
    "assert (v3.x, v3.y) == (4,6)\n"
   ]
  },
  {
   "cell_type": "markdown",
   "id": "646c195d",
   "metadata": {},
   "source": [
    "<details>\n",
    "<summary><strong>Instructor solution (click to reveal)</strong></summary>\n",
    "\n",
    "```python\n",
    "class Vector2D:\n",
    "    def __init__(self, x, y):\n",
    "        self.x, self.y = x, y\n",
    "    def add(self, other):\n",
    "        return Vector2D(self.x + other.x, self.y + other.y)\n",
    "```\n",
    "</details>"
   ]
  },
  {
   "cell_type": "markdown",
   "id": "90b3243d",
   "metadata": {},
   "source": [
    "## 15. ShoppingCart\n",
    "\n",
    "Class `ShoppingCart` storing items prices.\n",
    "Method `add_item(name, price)` and `total()`."
   ]
  },
  {
   "cell_type": "code",
   "execution_count": null,
   "id": "59305663",
   "metadata": {},
   "outputs": [],
   "source": [
    "class ShoppingCart:\n",
    "    ...\n",
    "\n",
    "cart = ShoppingCart()\n",
    "cart.add_item(\"Pen\", 1.5)\n",
    "cart.add_item(\"Book\", 8)\n",
    "assert abs(cart.total() - 9.5) < 1e-6\n"
   ]
  },
  {
   "cell_type": "markdown",
   "id": "42e9d383",
   "metadata": {},
   "source": [
    "<details>\n",
    "<summary><strong>Instructor solution (click to reveal)</strong></summary>\n",
    "\n",
    "```python\n",
    "class ShoppingCart:\n",
    "    def __init__(self):\n",
    "        self.prices = []\n",
    "    def add_item(self, name, price):\n",
    "        self.prices.append(price)\n",
    "    def total(self):\n",
    "        return sum(self.prices)\n",
    "```\n",
    "</details>"
   ]
  },
  {
   "cell_type": "markdown",
   "id": "90fe1c60",
   "metadata": {},
   "source": [
    "## 16. LightSwitch\n",
    "\n",
    "Class `LightSwitch` with boolean `on` (False initially) and method `toggle()`."
   ]
  },
  {
   "cell_type": "code",
   "execution_count": null,
   "id": "9ec195d5",
   "metadata": {},
   "outputs": [],
   "source": [
    "class LightSwitch:\n",
    "    ...\n",
    "\n",
    "sw = LightSwitch()\n",
    "sw.toggle()\n",
    "assert sw.on is True\n"
   ]
  },
  {
   "cell_type": "markdown",
   "id": "4021ad3f",
   "metadata": {},
   "source": [
    "<details>\n",
    "<summary><strong>Instructor solution (click to reveal)</strong></summary>\n",
    "\n",
    "```python\n",
    "class LightSwitch:\n",
    "    def __init__(self):\n",
    "        self.on = False\n",
    "    def toggle(self):\n",
    "        self.on = not self.on\n",
    "```\n",
    "</details>"
   ]
  },
  {
   "cell_type": "markdown",
   "id": "76f76b1d",
   "metadata": {},
   "source": [
    "## 17. Polygon Instance Counter\n",
    "\n",
    "Add class variable `count` tracking instances in `Polygon`."
   ]
  },
  {
   "cell_type": "code",
   "execution_count": null,
   "id": "083dcb11",
   "metadata": {},
   "outputs": [],
   "source": [
    "class Polygon:\n",
    "    count = 0\n",
    "    def __init__(self, sides):\n",
    "        ...\n",
    "\n",
    "p1 = Polygon(3); p2 = Polygon(4)\n",
    "assert Polygon.count == 2\n"
   ]
  },
  {
   "cell_type": "markdown",
   "id": "f729002f",
   "metadata": {},
   "source": [
    "<details>\n",
    "<summary><strong>Instructor solution (click to reveal)</strong></summary>\n",
    "\n",
    "```python\n",
    "class Polygon:\n",
    "    count = 0\n",
    "    def __init__(self, sides):\n",
    "        self.sides = sides\n",
    "        Polygon.count += 1\n",
    "```\n",
    "</details>"
   ]
  },
  {
   "cell_type": "markdown",
   "id": "565b4e9d",
   "metadata": {},
   "source": [
    "## 18. Library Late Fee (static method)\n",
    "\n",
    "Class `Library` static method `late_fee(days)` returns `0.25*days`."
   ]
  },
  {
   "cell_type": "code",
   "execution_count": null,
   "id": "95cdd8e9",
   "metadata": {},
   "outputs": [],
   "source": [
    "class Library:\n",
    "    ...\n",
    "\n",
    "assert Library.late_fee(4) == 1.0\n"
   ]
  },
  {
   "cell_type": "markdown",
   "id": "2e8628fc",
   "metadata": {},
   "source": [
    "<details>\n",
    "<summary><strong>Instructor solution (click to reveal)</strong></summary>\n",
    "\n",
    "```python\n",
    "class Library:\n",
    "    @staticmethod\n",
    "    def late_fee(days):\n",
    "        return 0.25 * days\n",
    "```\n",
    "</details>"
   ]
  },
  {
   "cell_type": "markdown",
   "id": "fe89d73f",
   "metadata": {},
   "source": [
    "## 19. Password Validator\n",
    "\n",
    "Static method `is_valid(pwd)` returns True if len≥8 and contains digit."
   ]
  },
  {
   "cell_type": "code",
   "execution_count": null,
   "id": "f0b43ac1",
   "metadata": {},
   "outputs": [],
   "source": [
    "class PasswordValidator:\n",
    "    ...\n",
    "\n",
    "assert PasswordValidator.is_valid(\"abc12345\")\n",
    "assert not PasswordValidator.is_valid(\"short\")\n"
   ]
  },
  {
   "cell_type": "markdown",
   "id": "25b6d390",
   "metadata": {},
   "source": [
    "<details>\n",
    "<summary><strong>Instructor solution (click to reveal)</strong></summary>\n",
    "\n",
    "```python\n",
    "class PasswordValidator:\n",
    "    @staticmethod\n",
    "    def is_valid(pwd):\n",
    "        return len(pwd) >= 8 and any(ch.isdigit() for ch in pwd)\n",
    "```\n",
    "</details>"
   ]
  },
  {
   "cell_type": "markdown",
   "id": "acf91531",
   "metadata": {},
   "source": [
    "## 20. Animal Inheritance\n",
    "\n",
    "Base class `Animal` with `speak()` returning `\"...\"`.\n",
    "Subclass `Cat` overrides to `\"Meow\"`."
   ]
  },
  {
   "cell_type": "code",
   "execution_count": null,
   "id": "078bf5ae",
   "metadata": {},
   "outputs": [],
   "source": [
    "class Animal:\n",
    "    ...\n",
    "\n",
    "class Cat(Animal):\n",
    "    ...\n",
    "\n",
    "a, c = Animal(), Cat()\n",
    "assert a.speak() == \"...\"\n",
    "assert c.speak() == \"Meow\"\n"
   ]
  },
  {
   "cell_type": "markdown",
   "id": "d745f5ec",
   "metadata": {},
   "source": [
    "<details>\n",
    "<summary><strong>Instructor solution (click to reveal)</strong></summary>\n",
    "\n",
    "```python\n",
    "class Animal:\n",
    "    def speak(self):\n",
    "        return \"...\"\n",
    "class Cat(Animal):\n",
    "    def speak(self):\n",
    "        return \"Meow\"\n",
    "```\n",
    "</details>"
   ]
  }
 ],
 "metadata": {},
 "nbformat": 4,
 "nbformat_minor": 5
}
