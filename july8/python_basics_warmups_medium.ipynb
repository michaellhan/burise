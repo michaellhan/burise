{
 "cells": [
  {
   "cell_type": "markdown",
   "id": "2eb62b96",
   "metadata": {},
   "source": [
    "# Python Basics — Medium Warm-ups\n",
    "\n",
    "Each problem includes:\n",
    "1. A **starter code** cell with `TODO` markers.\n",
    "2. A hidden **Instructor solution** you can reveal by clicking.\n",
    "\n",
    "Where helpful, you'll find either an **explanatory note** or a **reference link** so you know what to use. When a task is unclear, try to write out what you understand the problem to be asking and then look into the basic components of that problem.\n"
   ]
  },
  {
   "cell_type": "markdown",
   "id": "a511659d",
   "metadata": {},
   "source": [
    "## 1. Merge Dictionaries Summing Values\n",
    "Write `merge_sum(d1, d2)` to return a **new dict** combining `d1` and `d2`.  \n",
    "If a key exists in both, sum their values.  \n",
    " [dict comprehension](https://docs.python.org/3/tutorial/datastructures.html#dictionaries)"
   ]
  },
  {
   "cell_type": "code",
   "execution_count": 19,
   "id": "a65ad2a3",
   "metadata": {},
   "outputs": [
    {
     "name": "stdout",
     "output_type": "stream",
     "text": [
      "{'a': 1, 'b': 5, 'c': 4}\n"
     ]
    }
   ],
   "source": [
    "def merge_sum(d1, d2):\n",
    "    d3 = {}\n",
    "    for d in (d1, d2):\n",
    "        for k1, v1 in d.items():\n",
    "            if k1 in d3:\n",
    "                d3[k1] += v1\n",
    "            else:\n",
    "                d3[k1] = v1\n",
    "\n",
    "    return d3\n",
    "\n",
    "print(merge_sum({'a': 1, 'b': 2}, {'b': 3, 'c': 4}) )\n",
    "assert merge_sum({'a': 1, 'b': 2}, {'b': 3, 'c': 4}) == {'a': 1, 'b': 5, 'c': 4}"
   ]
  },
  {
   "cell_type": "markdown",
   "id": "e538ca83",
   "metadata": {},
   "source": [
    "<details>\n",
    "<summary>Instructor solution (click to reveal)</summary>\n",
    "\n",
    "```python\n",
    "def merge_sum(d1, d2):\n",
    "    return {k: d1.get(k, 0) + d2.get(k, 0) for k in set(d1) | set(d2)}```\n",
    "</details>"
   ]
  },
  {
   "cell_type": "markdown",
   "id": "40427a42",
   "metadata": {},
   "source": [
    "## 2. Filter Primes from a List\n",
    "Complete `is_prime(n)` and then `filter_primes(nums)` using **filter** (i.e., only return primes)  \n",
    " [filter()](https://docs.python.org/3/library/functions.html#filter)"
   ]
  },
  {
   "cell_type": "code",
   "execution_count": 18,
   "id": "d87fa2ff",
   "metadata": {},
   "outputs": [
    {
     "name": "stdout",
     "output_type": "stream",
     "text": [
      "True False True False\n",
      "[2, 3, 5, 7, 11, 13]\n"
     ]
    }
   ],
   "source": [
    "import math\n",
    "\n",
    "def is_prime(n):\n",
    "    if n <= 1: return False\n",
    "    for i in range(2,int(math.sqrt(n))+1):\n",
    "        if n % i == 0: return False\n",
    "    return True\n",
    "\n",
    "print(is_prime(53), is_prime(4), is_prime(101), is_prime(100))\n",
    "\n",
    "def filter_primes(nums):\n",
    "    return list(filter(is_prime, nums))\n",
    "\n",
    "\n",
    "print(filter_primes([1,2,3,4,5,6,7,8,9,10,11,12,13]))\n",
    "assert list(filter_primes([2, 3, 4, 5, 6, 7, 8, 9, 10])) == [2, 3, 5, 7]"
   ]
  },
  {
   "cell_type": "markdown",
   "id": "59b8eea6",
   "metadata": {},
   "source": [
    "<details>\n",
    "<summary>Instructor solution (click to reveal)</summary>\n",
    "\n",
    "```python\n",
    "def is_prime(n):\n",
    "    if n < 2: return False\n",
    "    for i in range(2, int(n**0.5) + 1):\n",
    "        if n % i == 0:\n",
    "            return False\n",
    "    return True\n",
    "\n",
    "def filter_primes(nums):\n",
    "    return list(filter(is_prime, nums))```\n",
    "</details>"
   ]
  },
  {
   "cell_type": "markdown",
   "id": "9d102173",
   "metadata": {},
   "source": [
    "## 3. Reverse a List\n",
    "Use **list slicing** with step `-1` to reverse a list.  \n",
    " [slicing](https://docs.python.org/3/reference/expressions.html#slicings)"
   ]
  },
  {
   "cell_type": "code",
   "execution_count": 40,
   "id": "a8f58495",
   "metadata": {},
   "outputs": [
    {
     "name": "stdout",
     "output_type": "stream",
     "text": [
      "[3, 2, 1]\n"
     ]
    }
   ],
   "source": [
    "def reverse_list(lst):\n",
    "    return lst[::-1]\n",
    "\n",
    "print(reverse_list([1, 2, 3]))  # should print [3, 2, 1]\n",
    "assert reverse_list([1, 2, 3]) == [3, 2, 1]"
   ]
  },
  {
   "cell_type": "markdown",
   "id": "23cc8852",
   "metadata": {},
   "source": [
    "<details>\n",
    "<summary>Instructor solution (click to reveal)</summary>\n",
    "\n",
    "```python\n",
    "def reverse_list(lst):\n",
    "    return lst[::-1]```\n",
    "</details>"
   ]
  },
  {
   "cell_type": "markdown",
   "id": "33b6c469",
   "metadata": {},
   "source": [
    "## 4. Flatten One-Level with Comprehension\n",
    "`flatten_comp(lst)` removes one level of nesting using a nested **list comprehension**.  \n",
    " [list comprehensions](https://docs.python.org/3/tutorial/datastructures.html#list-comprehensions)"
   ]
  },
  {
   "cell_type": "code",
   "execution_count": 43,
   "id": "87aeae94",
   "metadata": {},
   "outputs": [
    {
     "name": "stdout",
     "output_type": "stream",
     "text": [
      "[1, 2, 3, 4]\n",
      "[1, [2, 3], 4, 5, [6, 7]]\n"
     ]
    }
   ],
   "source": [
    "def flatten_comp(lst):\n",
    "    flat = []\n",
    "    for l in lst:\n",
    "        for num in l:\n",
    "            flat.append(num)\n",
    "    return flat\n",
    "\n",
    "print(flatten_comp([[1, 2], [3, 4]]))  # should print [1, 2, 3, 4]\n",
    "assert flatten_comp([[1, 2], [3, 4]]) == [1, 2, 3, 4]\n",
    "print(flatten_comp([[1, [2, 3]], [4], [], [5, [6, 7]]]))  # should print [1, [2, 3], 4, 5, [6, 7]]\n",
    "assert flatten_comp([[1, [2, 3]], [4], [], [5, [6, 7]]]) == [1, [2, 3], 4, 5, [6, 7]]"
   ]
  },
  {
   "cell_type": "markdown",
   "id": "685ae500",
   "metadata": {},
   "source": [
    "<details>\n",
    "<summary>Instructor solution (click to reveal)</summary>\n",
    "\n",
    "```python\n",
    "def flatten_comp(lst):\n",
    "    return [item for sub in lst for item in (sub if isinstance(sub, list) else [sub])]```\n",
    "</details>"
   ]
  },
  {
   "cell_type": "markdown",
   "id": "257e09c1",
   "metadata": {},
   "source": [
    "## 5. Invert a Dictionary\n",
    "Write `invert_dict(d)` so keys become values and values become keys (assume values are unique).  \n",
    " [dict][dict comprehension]"
   ]
  },
  {
   "cell_type": "code",
   "execution_count": 45,
   "id": "ac904d81",
   "metadata": {},
   "outputs": [
    {
     "name": "stdout",
     "output_type": "stream",
     "text": [
      "{1: 'a', 2: 'b', 3: 'c'}\n"
     ]
    }
   ],
   "source": [
    "def invert_dict(d):\n",
    "    return {v: k for k, v in d.items()}\n",
    "\n",
    "print(invert_dict({'a': 1, 'b': 2, 'c': 3}))  # should print {1: 'a', 2: 'b', 3: 'c'}\n",
    "assert invert_dict({'a': 1, 'b': 2, 'c': 3}) == {1: 'a', 2: 'b', 3: 'c'}"
   ]
  },
  {
   "cell_type": "markdown",
   "id": "166a8241",
   "metadata": {},
   "source": [
    "<details>\n",
    "<summary>Instructor solution (click to reveal)</summary>\n",
    "\n",
    "```python\n",
    "def invert_dict(d):\n",
    "    return {v: k for k, v in d.items()}```\n",
    "</details>"
   ]
  },
  {
   "cell_type": "markdown",
   "id": "699bcf6d",
   "metadata": {},
   "source": [
    "## 6. Write Lines to a File\n",
    "Complete `write_lines(path, lines)` to write each string in `lines` to `path`, one per line.  \n",
    " [file I/O tutorial](https://docs.python.org/3/tutorial/inputoutput.html#reading-and-writing-files)"
   ]
  },
  {
   "cell_type": "code",
   "execution_count": 46,
   "id": "5a203630",
   "metadata": {},
   "outputs": [
    {
     "name": "stdout",
     "output_type": "stream",
     "text": [
      "hello\n",
      "world\n",
      "123\n",
      "\n"
     ]
    }
   ],
   "source": [
    "def write_lines(path, lines):\n",
    "    with open(path, \"w\") as f:\n",
    "        for l in lines:\n",
    "            f.write(l + \"\\n\")\n",
    "\n",
    "write_lines(\"test.txt\", [\"hello\", \"world\", \"123\"])\n",
    "with open(\"test.txt\") as f:\n",
    "    contents = f.read()\n",
    "\n",
    "print(contents)  # should print:\n",
    "# hello\n",
    "# world\n",
    "# 123\n",
    "\n",
    "assert contents == \"hello\\nworld\\n123\\n\""
   ]
  },
  {
   "cell_type": "markdown",
   "id": "2a689f54",
   "metadata": {},
   "source": [
    "<details>\n",
    "<summary>Instructor solution (click to reveal)</summary>\n",
    "\n",
    "```python\n",
    "def write_lines(path, lines):\n",
    "    with open(path, 'w') as f:\n",
    "        for line in lines:\n",
    "            f.write(line + '\\n')```\n",
    "</details>"
   ]
  },
  {
   "cell_type": "markdown",
   "id": "09b05375",
   "metadata": {},
   "source": [
    "## 7. Safe Integer Conversion\n",
    "`safe_int(s)` returns `int(s)` or `None` if conversion fails. Use try/except\n",
    " [try/except](https://docs.python.org/3/tutorial/errors.html#handling-exceptions)"
   ]
  },
  {
   "cell_type": "code",
   "execution_count": 47,
   "id": "9b571720",
   "metadata": {},
   "outputs": [
    {
     "name": "stdout",
     "output_type": "stream",
     "text": [
      "123\n",
      "None\n",
      "None\n",
      "-42\n"
     ]
    }
   ],
   "source": [
    "def safe_int(s):\n",
    "    try:\n",
    "        return int(s)\n",
    "    except ValueError:\n",
    "        return None\n",
    "\n",
    "print(safe_int(\"123\"))    # should print 123\n",
    "assert safe_int(\"123\") == 123\n",
    "\n",
    "print(safe_int(\"hello\"))  # should print None\n",
    "assert safe_int(\"hello\") is None\n",
    "\n",
    "print(safe_int(\"3.14\"))   # should print None\n",
    "assert safe_int(\"3.14\") is None\n",
    "\n",
    "print(safe_int(\"-42\"))    # should print -42\n",
    "assert safe_int(\"-42\") == -42"
   ]
  },
  {
   "cell_type": "markdown",
   "id": "63e9b215",
   "metadata": {},
   "source": [
    "<details>\n",
    "<summary>Instructor solution (click to reveal)</summary>\n",
    "\n",
    "```python\n",
    "def safe_int(s):\n",
    "    try:\n",
    "        return int(s)\n",
    "    except ValueError:\n",
    "        return None```\n",
    "</details>"
   ]
  },
  {
   "cell_type": "markdown",
   "id": "bfe536ea",
   "metadata": {},
   "source": [
    "\n",
    "## 8. Filter Vowel Words\n",
    "Write `vowel_words(words)` to return only those starting with a vowel.  \n",
    "Use **filter** and **lambda**.  \n",
    " [lambda](https://docs.python.org/3/tutorial/controlflow.html#lambda-expressions)"
   ]
  },
  {
   "cell_type": "code",
   "execution_count": 48,
   "id": "26706579",
   "metadata": {},
   "outputs": [
    {
     "name": "stdout",
     "output_type": "stream",
     "text": [
      "['apple', 'orange', 'umbrella']\n",
      "['eel', 'iguana']\n",
      "['Ant', 'owl']\n"
     ]
    }
   ],
   "source": [
    "def is_vowel(word):\n",
    "    return word[0].lower() in \"aeiou\"\n",
    "\n",
    "def vowel_words(words):\n",
    "    return list(filter(is_vowel, words))\n",
    "\n",
    "print(vowel_words([\"apple\", \"banana\", \"orange\", \"grape\", \"umbrella\"]))  # should print ['apple', 'orange', 'umbrella']\n",
    "assert vowel_words([\"apple\", \"banana\", \"orange\", \"grape\", \"umbrella\"]) == ['apple', 'orange', 'umbrella']\n",
    "\n",
    "print(vowel_words([\"dog\", \"cat\", \"eel\", \"iguana\"]))  # should print ['eel', 'iguana']\n",
    "assert vowel_words([\"dog\", \"cat\", \"eel\", \"iguana\"]) == ['eel', 'iguana']\n",
    "\n",
    "print(vowel_words([\"Bear\", \"Ant\", \"owl\"]))  # should print ['Ant', 'owl']\n",
    "assert vowel_words([\"Bear\", \"Ant\", \"owl\"]) == ['Ant', 'owl']"
   ]
  },
  {
   "cell_type": "markdown",
   "id": "6de3a517",
   "metadata": {},
   "source": [
    "<details>\n",
    "<summary>Instructor solution (click to reveal)</summary>\n",
    "\n",
    "```python\n",
    "def vowel_words(words):\n",
    "    return list(filter(lambda w: w and w[0].lower() in 'aeiou', words))```\n",
    "</details>"
   ]
  },
  {
   "cell_type": "markdown",
   "id": "b7732e28",
   "metadata": {},
   "source": [
    "## 9. Even Squares 1-20\n",
    "Using a **list comprehension with conditional**, compute squares of even numbers from 1 to 20."
   ]
  },
  {
   "cell_type": "code",
   "execution_count": 49,
   "id": "06820d49",
   "metadata": {},
   "outputs": [
    {
     "name": "stdout",
     "output_type": "stream",
     "text": [
      "[4, 16, 36, 64, 100, 144, 196, 256, 324, 400]\n"
     ]
    }
   ],
   "source": [
    "even_squares = [x**2 for x in range(1,21) if x % 2 == 0]\n",
    "\n",
    "print(even_squares)  # should print [4, 16, 36, 64, 100, 144, 196, 256, 324, 400]\n",
    "assert even_squares == [4, 16, 36, 64, 100, 144, 196, 256, 324, 400]"
   ]
  },
  {
   "cell_type": "markdown",
   "id": "bd9a0aaa",
   "metadata": {},
   "source": [
    "<details>\n",
    "<summary>Instructor solution (click to reveal)</summary>\n",
    "\n",
    "```python\n",
    "even_squares = [n*n for n in range(1,21) if n % 2 == 0]```\n",
    "</details>"
   ]
  },
  {
   "cell_type": "markdown",
   "id": "86294841",
   "metadata": {},
   "source": [
    "## 11. List Intersection via Sets\n",
    "`intersection(a, b)` returns the common elements using **set intersection**. (i.e., if you have set a and set b, where do they intersect):\n",
    " [set](https://docs.python.org/3/library/stdtypes.html#set-types-set-frozenset)"
   ]
  },
  {
   "cell_type": "code",
   "execution_count": 50,
   "id": "eb8075f9",
   "metadata": {},
   "outputs": [
    {
     "name": "stdout",
     "output_type": "stream",
     "text": [
      "[3, 4]\n"
     ]
    }
   ],
   "source": [
    "def intersection(a, b):\n",
    "    return list(set(a) & set(b))\n",
    "\n",
    "print(intersection([1, 2, 3, 4], [3, 4, 5, 6]))  # should print [3, 4] (order may vary)\n",
    "assert set(intersection([1, 2, 3, 4], [3, 4, 5, 6])) == {3, 4}"
   ]
  },
  {
   "cell_type": "markdown",
   "id": "a2235d34",
   "metadata": {},
   "source": [
    "<details>\n",
    "<summary>Instructor solution (click to reveal)</summary>\n",
    "\n",
    "```python\n",
    "def intersection(a, b):\n",
    "    return list(set(a) & set(b))```\n",
    "</details>"
   ]
  },
  {
   "cell_type": "markdown",
   "id": "eac4481c",
   "metadata": {},
   "source": [
    "## 12. Simple Person Class\n",
    "Define `Person(name, age)` with `__str__` returning `\"<name> (<age>)\"`.  \n",
    " [classes](https://docs.python.org/3/tutorial/classes.html)"
   ]
  },
  {
   "cell_type": "code",
   "execution_count": 51,
   "id": "5c0f80d7",
   "metadata": {},
   "outputs": [
    {
     "name": "stdout",
     "output_type": "stream",
     "text": [
      "Alice (30)\n",
      "Bob (22)\n"
     ]
    }
   ],
   "source": [
    "class Person:\n",
    "    def __init__(self, name, age):\n",
    "        self.name = name\n",
    "        self.age = age\n",
    "    \n",
    "    def __str__(self):\n",
    "        return f\"{self.name} ({self.age})\"\n",
    "\n",
    "p = Person(\"Alice\", 30)\n",
    "print(str(p))  # should print: Alice (30)\n",
    "assert str(p) == \"Alice (30)\"\n",
    "\n",
    "p2 = Person(\"Bob\", 22)\n",
    "print(str(p2))  # should print: Bob (22)\n",
    "assert str(p2) == \"Bob (22)\""
   ]
  },
  {
   "cell_type": "markdown",
   "id": "e7f16fa5",
   "metadata": {},
   "source": [
    "<details>\n",
    "<summary>Instructor solution (click to reveal)</summary>\n",
    "\n",
    "```python\n",
    "class Person:\n",
    "    def __init__(self, name, age):\n",
    "        self.name = name\n",
    "        self.age = age\n",
    "    def __str__(self):\n",
    "        return f\"{self.name} ({self.age})\"```\n",
    "</details>"
   ]
  },
  {
   "cell_type": "markdown",
   "id": "11294aef",
   "metadata": {},
   "source": [
    "## 13. Zip to Dictionary\n",
    "Write `zip_dict(keys, vals)` that uses **zip** to pair lists into a dict.  \n",
    " [zip](https://docs.python.org/3/library/functions.html#zip)"
   ]
  },
  {
   "cell_type": "code",
   "execution_count": 54,
   "id": "42eb930d",
   "metadata": {},
   "outputs": [
    {
     "name": "stdout",
     "output_type": "stream",
     "text": [
      "{'a': 1, 'b': 2, 'c': 3}\n"
     ]
    }
   ],
   "source": [
    "def zip_dict(keys, vals):\n",
    "    return dict(zip(keys, vals))\n",
    "\n",
    "print(zip_dict([\"a\", \"b\", \"c\"], [1, 2, 3]))  # should print {'a': 1, 'b': 2, 'c': 3}\n",
    "assert zip_dict([\"a\", \"b\", \"c\"], [1, 2, 3]) == {\"a\": 1, \"b\": 2, \"c\": 3}"
   ]
  },
  {
   "cell_type": "markdown",
   "id": "c682f9d3",
   "metadata": {},
   "source": [
    "<details>\n",
    "<summary>Instructor solution (click to reveal)</summary>\n",
    "\n",
    "```python\n",
    "def zip_dict(keys, vals):\n",
    "    return dict(zip(keys, vals))```\n",
    "</details>"
   ]
  },
  {
   "cell_type": "markdown",
   "id": "5abc7e50",
   "metadata": {},
   "source": [
    "## 14. Chunk List into Size N\n",
    "Implement `chunk(lst, n)` returning a list of sublists of length `n` (last may be shorter).  \n",
    "Use **list slicing**."
   ]
  },
  {
   "cell_type": "code",
   "execution_count": 58,
   "id": "367c51e3",
   "metadata": {},
   "outputs": [
    {
     "name": "stdout",
     "output_type": "stream",
     "text": [
      "[[1, 2, 3], [4, 5, 6], [7]]\n"
     ]
    }
   ],
   "source": [
    "def chunk(lst, n):\n",
    "    return [lst[i: i+n] for i in range(len(lst)) if i % n == 0]\n",
    "\n",
    "print(chunk([1, 2, 3, 4, 5, 6, 7], 3))  # should print [[1, 2, 3], [4, 5, 6], [7]]\n",
    "assert chunk([1, 2, 3, 4, 5, 6, 7], 3) == [[1, 2, 3], [4, 5, 6], [7]]"
   ]
  },
  {
   "cell_type": "markdown",
   "id": "ce01dd35",
   "metadata": {},
   "source": [
    "<details>\n",
    "<summary>Instructor solution (click to reveal)</summary>\n",
    "\n",
    "```python\n",
    "def chunk(lst, n):\n",
    "    return [lst[i:i+n] for i in range(0, len(lst), n)]```\n",
    "</details>"
   ]
  },
  {
   "cell_type": "markdown",
   "id": "ce59a0f1",
   "metadata": {},
   "source": [
    "## 15. All Positive Check\n",
    "`all_positive(nums)` returns `True` if **all** are >0, else `False`.  \n",
    " [all()](https://docs.python.org/3/library/functions.html#all)"
   ]
  },
  {
   "cell_type": "code",
   "execution_count": 59,
   "id": "88536995",
   "metadata": {},
   "outputs": [
    {
     "name": "stdout",
     "output_type": "stream",
     "text": [
      "True\n",
      "False\n",
      "False\n",
      "True\n"
     ]
    }
   ],
   "source": [
    "def all_positive(nums):\n",
    "    for num in nums:\n",
    "        if num <= 0: return False\n",
    "    return True\n",
    "\n",
    "print(all_positive([1, 2, 3, 4]))  # should print True\n",
    "assert all_positive([1, 2, 3, 4]) == True\n",
    "\n",
    "print(all_positive([0, 2, 3]))  # should print False\n",
    "assert all_positive([0, 2, 3]) == False\n",
    "\n",
    "print(all_positive([-1, 2, 3]))  # should print False\n",
    "assert all_positive([-1, 2, 3]) == False\n",
    "\n",
    "print(all_positive([]))  # should print True (no negatives at all)\n",
    "assert all_positive([]) == True"
   ]
  },
  {
   "cell_type": "markdown",
   "id": "b1d2f7d6",
   "metadata": {},
   "source": [
    "<details>\n",
    "<summary>Instructor solution (click to reveal)</summary>\n",
    "\n",
    "```python\n",
    "def all_positive(nums):\n",
    "    return all(n > 0 for n in nums)```\n",
    "</details>"
   ]
  },
  {
   "cell_type": "markdown",
   "id": "bf30a963",
   "metadata": {},
   "source": [
    "## 16. Sort Strings by Length\n",
    "`sort_len(strings)` returns a new list sorted by string length, descending.  \n",
    "Use **sorted(..., key=..., reverse=True)**."
   ]
  },
  {
   "cell_type": "code",
   "execution_count": 64,
   "id": "0f374ea8",
   "metadata": {},
   "outputs": [
    {
     "name": "stdout",
     "output_type": "stream",
     "text": [
      "['abcd', 'abc', 'de', 'a']\n"
     ]
    }
   ],
   "source": [
    "def sort_len(strings):\n",
    "    return sorted(strings, key=len, reverse=True)\n",
    "\n",
    "print(sort_len([\"a\", \"abc\", \"de\", \"abcd\"]))  # should print ['abcd', 'abc', 'de', 'a']\n",
    "assert sort_len([\"a\", \"abc\", \"de\", \"abcd\"]) == ['abcd', 'abc', 'de', 'a']"
   ]
  },
  {
   "cell_type": "markdown",
   "id": "53633515",
   "metadata": {},
   "source": [
    "<details>\n",
    "<summary>Instructor solution (click to reveal)</summary>\n",
    "\n",
    "```python\n",
    "def sort_len(strings):\n",
    "    return sorted(strings, key=lambda s: len(s), reverse=True)```\n",
    "</details>"
   ]
  },
  {
   "cell_type": "markdown",
   "id": "47de661c",
   "metadata": {},
   "source": [
    "## 17. Parse Query String\n",
    "`parse_qs(qs)` given `'a=1&b=2'` returns `{'a':'1','b':'2'}`.  \n",
    "Hint: **str.split** and **dict comprehension**."
   ]
  },
  {
   "cell_type": "code",
   "execution_count": 72,
   "id": "5b982d18",
   "metadata": {},
   "outputs": [
    {
     "name": "stdout",
     "output_type": "stream",
     "text": [
      "{'a': '1', 'b': '2'}\n",
      "{'x': 'hello', 'y': 'world'}\n",
      "{'one': '1'}\n",
      "{}\n"
     ]
    }
   ],
   "source": [
    "def parse_qs(qs):\n",
    "    if qs == \"\": return {}\n",
    "    l = qs.split(\"&\")\n",
    "    return {pair.split(\"=\")[0] : pair.split(\"=\")[1] for pair in l}\n",
    "\n",
    "print(parse_qs(\"a=1&b=2\"))  # should print {'a': '1', 'b': '2'}\n",
    "assert parse_qs(\"a=1&b=2\") == {'a': '1', 'b': '2'}\n",
    "\n",
    "print(parse_qs(\"x=hello&y=world\"))  # should print {'x': 'hello', 'y': 'world'}\n",
    "assert parse_qs(\"x=hello&y=world\") == {'x': 'hello', 'y': 'world'}\n",
    "\n",
    "print(parse_qs(\"one=1\"))  # should print {'one': '1'}\n",
    "assert parse_qs(\"one=1\") == {'one': '1'}\n",
    "\n",
    "print(parse_qs(\"\"))  # should print {}\n",
    "assert parse_qs(\"\") == {}"
   ]
  },
  {
   "cell_type": "markdown",
   "id": "8c85c0b4",
   "metadata": {},
   "source": [
    "<details>\n",
    "<summary>Instructor solution (click to reveal)</summary>\n",
    "\n",
    "```python\n",
    "def parse_qs(qs):\n",
    "    return {k: v for part in qs.split('&') for k, v in [part.split('=')]}```\n",
    "</details>"
   ]
  },
  {
   "cell_type": "markdown",
   "id": "8d26b8fd",
   "metadata": {},
   "source": [
    "## 18. Count in 2D Matrix\n",
    "`count_matrix(mat, val)` returns how many times `val` appears in 2D list `mat`.  \n",
    "Use **nested loops**."
   ]
  },
  {
   "cell_type": "code",
   "execution_count": 73,
   "id": "e5acf683",
   "metadata": {},
   "outputs": [
    {
     "name": "stdout",
     "output_type": "stream",
     "text": [
      "3\n",
      "0\n",
      "1\n",
      "0\n"
     ]
    }
   ],
   "source": [
    "def count_matrix(mat, val):\n",
    "    cnt = 0\n",
    "    for v in sum(mat, []):\n",
    "        if v == val: cnt += 1\n",
    "    return cnt\n",
    "\n",
    "print(count_matrix([[1, 2], [3, 2], [2, 4]], 2))  # should print 3\n",
    "assert count_matrix([[1, 2], [3, 2], [2, 4]], 2) == 3\n",
    "\n",
    "print(count_matrix([[0, 0], [0, 0]], 1))  # should print 0\n",
    "assert count_matrix([[0, 0], [0, 0]], 1) == 0\n",
    "\n",
    "print(count_matrix([[5]], 5))  # should print 1\n",
    "assert count_matrix([[5]], 5) == 1\n",
    "\n",
    "print(count_matrix([], 7))  # should print 0\n",
    "assert count_matrix([], 7) == 0"
   ]
  },
  {
   "cell_type": "markdown",
   "id": "cefd7384",
   "metadata": {},
   "source": [
    "<details>\n",
    "<summary>Instructor solution (click to reveal)</summary>\n",
    "\n",
    "```python\n",
    "def count_matrix(mat, val):\n",
    "    count = 0\n",
    "    for row in mat:\n",
    "        for item in row:\n",
    "            if item == val:\n",
    "                count += 1\n",
    "    return count```\n",
    "</details>"
   ]
  },
  {
   "cell_type": "markdown",
   "id": "dcacf321",
   "metadata": {},
   "source": [
    "## 19. Character Frequency\n",
    "`char_freq(s)` returns a dict mapping each character in `s` to its count (ignore spaces)."
   ]
  },
  {
   "cell_type": "code",
   "execution_count": 77,
   "id": "563a1fa2",
   "metadata": {},
   "outputs": [
    {
     "name": "stdout",
     "output_type": "stream",
     "text": [
      "{'h': 1, 'e': 1, 'l': 3, 'o': 2, 'w': 1, 'r': 1, 'd': 1}\n",
      "{'a': 3, 'b': 1}\n",
      "{}\n",
      "{}\n"
     ]
    }
   ],
   "source": [
    "def char_freq(s):\n",
    "    return {c : s.count(c) for c in s if c != ' '}\n",
    "\n",
    "print(char_freq(\"hello world\"))  # should print {'h': 1, 'e': 1, 'l': 3, 'o': 2, 'w': 1, 'r': 1, 'd': 1}\n",
    "assert char_freq(\"hello world\") == {'h': 1, 'e': 1, 'l': 3, 'o': 2, 'w': 1, 'r': 1, 'd': 1}\n",
    "\n",
    "print(char_freq(\"a a a b\"))  # should print {'a': 3, 'b': 1}\n",
    "assert char_freq(\"a a a b\") == {'a': 3, 'b': 1}\n",
    "\n",
    "print(char_freq(\"\"))  # should print {}\n",
    "assert char_freq(\"\") == {}\n",
    "\n",
    "print(char_freq(\"  \"))  # should print {}\n",
    "assert char_freq(\"  \") == {}\n"
   ]
  },
  {
   "cell_type": "markdown",
   "id": "3428bb44",
   "metadata": {},
   "source": [
    "<details>\n",
    "<summary>Instructor solution (click to reveal)</summary>\n",
    "\n",
    "```python\n",
    "def char_freq(s):\n",
    "    freq = {}\n",
    "    for ch in s:\n",
    "        if ch == ' ':\n",
    "            continue\n",
    "        freq[ch] = freq.get(ch, 0) + 1\n",
    "    return freq```\n",
    "</details>"
   ]
  }
 ],
 "metadata": {
  "kernelspec": {
   "display_name": "base",
   "language": "python",
   "name": "python3"
  },
  "language_info": {
   "codemirror_mode": {
    "name": "ipython",
    "version": 3
   },
   "file_extension": ".py",
   "mimetype": "text/x-python",
   "name": "python",
   "nbconvert_exporter": "python",
   "pygments_lexer": "ipython3",
   "version": "3.13.5"
  }
 },
 "nbformat": 4,
 "nbformat_minor": 5
}
