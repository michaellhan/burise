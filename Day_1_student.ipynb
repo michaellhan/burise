{
  "cells": [
    {
      "cell_type": "markdown",
      "id": "09bf334d",
      "metadata": {
        "id": "09bf334d"
      },
      "source": [
        "# Introduction to Python, Jupyter Notebooks, and GitHub\n",
        "This notebook introduces Python basics and how to work in Jupyter Notebooks.\n",
        "\n",
        "## Learning goals\n",
        "- Understand the Jupyter Notebook interface (code vs. markdown cells, running cells, keyboard shortcuts).\n",
        "- Write and run basic Python code (syntax, variables, data types, control flow).\n",
        "- Document code using Markdown (headings, lists, LaTeX equations).\n",
        "- Get a high-level overview of Git & GitHub for version control.\n",
        "- Complete hands‑on challenges to reinforce each concept, including stretch problems for experienced coders.\n",
        "\n",
        "## Screen Sharing Solutions (Zoom)\n",
        "\n",
        "- Meeting ID: 926 0910 1746\n",
        "- Passcode: 105661"
      ]
    },
    {
      "cell_type": "markdown",
      "id": "976dcc91",
      "metadata": {
        "id": "976dcc91"
      },
      "source": [
        "## 1. Running Your First Python Cell\n",
        "Click in the cell below and press **Shift + Enter** (or the ▶️ button) to execute it."
      ]
    },
    {
      "cell_type": "code",
      "execution_count": 1,
      "id": "5ec233fc",
      "metadata": {
        "colab": {
          "base_uri": "https://localhost:8080/"
        },
        "id": "5ec233fc",
        "outputId": "cc6fbba4-62c8-45a4-ac38-64152948cf32"
      },
      "outputs": [
        {
          "name": "stdout",
          "output_type": "stream",
          "text": [
            "Hello, world!\n"
          ]
        }
      ],
      "source": [
        "print('Hello, world!')"
      ]
    },
    {
      "cell_type": "markdown",
      "id": "70e7896a",
      "metadata": {
        "id": "70e7896a"
      },
      "source": [
        "## 2. Basic Python Syntax\n",
        "Python uses **indentation** (4 spaces by convention) to define blocks.\n",
        "Comments start with `#`. Anything after `#` on the same line is ignored by Python."
      ]
    },
    {
      "cell_type": "code",
      "execution_count": 2,
      "id": "427a4a7f",
      "metadata": {
        "colab": {
          "base_uri": "https://localhost:8080/"
        },
        "id": "427a4a7f",
        "outputId": "36691ce4-831e-419f-9f6a-28e557000b9e"
      },
      "outputs": [
        {
          "name": "stdout",
          "output_type": "stream",
          "text": [
            "Iteration 0\n",
            "Iteration 1\n",
            "Iteration 2\n",
            "Iteration 3\n",
            "Iteration 4\n"
          ]
        }
      ],
      "source": [
        "# This is a comment\n",
        "for i in range(5):\n",
        "    print('Iteration', i)"
      ]
    },
    {
      "cell_type": "markdown",
      "id": "e1cc30f3",
      "metadata": {
        "id": "e1cc30f3"
      },
      "source": [
        "### Activity 1 – Debug It!\n",
        "The code below has three syntax/logic errors. Run it, read the traceback, then fix the errors so the loop prints\n",
        "`0 2 4 6 8` on one line."
      ]
    },
    {
      "cell_type": "code",
      "execution_count": 3,
      "id": "48cb3ef9",
      "metadata": {
        "colab": {
          "base_uri": "https://localhost:8080/"
        },
        "id": "48cb3ef9",
        "outputId": "d3e756df-0fe3-4a4d-a6b3-d57214300b7a"
      },
      "outputs": [
        {
          "name": "stdout",
          "output_type": "stream",
          "text": [
            "0 2 4 6 8 "
          ]
        }
      ],
      "source": [
        "# TODO: Fix the errors so this prints \"0 2 4 6 8\"\n",
        "for i in range(10):\n",
        "  if i % 2 == 0:\n",
        "    print(i, end = ' ')"
      ]
    },
    {
      "cell_type": "markdown",
      "id": "c3e5360c",
      "metadata": {
        "id": "c3e5360c"
      },
      "source": [
        "## 3. Variables & Data Types\n",
        "Python is **dynamically typed** – variable types are inferred at runtime.\n",
        "\n",
        "| Type | Example | Literal |\n",
        "|------|---------|---------|\n",
        "| `int` | whole numbers | `x = 42` |\n",
        "| `float` | decimal numbers | `pi = 3.14159` |\n",
        "| `str` | text | `name = \"Ada\"` |\n",
        "| `bool` | truth values | `is_valid = True` |\n",
        "| `list` | ordered, mutable collection | `scores = [95, 88, 72]` |\n",
        "| `dict` | key‑value pairs | `user = {'id': 1, 'name': 'Sam'}` |\n",
        "\n",
        "Run the cell below to see the types in action."
      ]
    },
    {
      "cell_type": "code",
      "execution_count": 4,
      "id": "0156c27d",
      "metadata": {
        "colab": {
          "base_uri": "https://localhost:8080/"
        },
        "id": "0156c27d",
        "outputId": "7ea989a9-8c8e-40c5-e539-dc26c18acda1"
      },
      "outputs": [
        {
          "name": "stdout",
          "output_type": "stream",
          "text": [
            "<class 'int'> <class 'float'> <class 'str'> <class 'bool'> <class 'list'> <class 'dict'>\n"
          ]
        }
      ],
      "source": [
        "x = 42\n",
        "pi = 3.14159\n",
        "name = \"Ada\"\n",
        "is_valid = True\n",
        "scores = [95, 88, 72]\n",
        "user = {'id': 1, 'name': 'Sam'}\n",
        "\n",
        "print(type(x), type(pi), type(name), type(is_valid), type(scores), type(user))"
      ]
    },
    {
      "cell_type": "markdown",
      "id": "57463a85",
      "metadata": {
        "id": "57463a85"
      },
      "source": [
        "### Activity 2 – Type Detective\n",
        "1. Create two new variables:\n",
        "   * `temperature_c` set to `21.5` (float)\n",
        "   * `cities` containing three city names of your choice (list of strings)\n",
        "2. Print a sentence that says \"The temperature is XX °C in CITY.\" using an **f‑string** and the first city in your list.\n",
        "3. Verify the data types with `type()`."
      ]
    },
    {
      "cell_type": "code",
      "execution_count": 5,
      "id": "2ec07dc9",
      "metadata": {
        "colab": {
          "base_uri": "https://localhost:8080/"
        },
        "id": "2ec07dc9",
        "outputId": "db553bd1-17df-4a86-80c4-3a8daa20464d"
      },
      "outputs": [
        {
          "name": "stdout",
          "output_type": "stream",
          "text": [
            "The temperature is 21.5°C in Boston\n",
            "<class 'float'> <class 'list'>\n"
          ]
        }
      ],
      "source": [
        "# Your code here\n",
        "temperature_c = 21.5\n",
        "cities = ['Boston', 'New York', 'San Francisco']\n",
        "\n",
        "print(f\"The temperature is {temperature_c}°C in {cities[0]}\")\n",
        "print(type(temperature_c), type(cities))"
      ]
    },
    {
      "cell_type": "markdown",
      "id": "208b185b",
      "metadata": {
        "id": "208b185b"
      },
      "source": [
        "## 4. Control Flow – `if`, `for`, `while`"
      ]
    },
    {
      "cell_type": "code",
      "execution_count": 6,
      "id": "ca94405d",
      "metadata": {
        "colab": {
          "base_uri": "https://localhost:8080/"
        },
        "id": "ca94405d",
        "outputId": "44d90c62-bcfa-41dd-817d-33d74bba6284"
      },
      "outputs": [
        {
          "name": "stdout",
          "output_type": "stream",
          "text": [
            "7 is odd\n"
          ]
        }
      ],
      "source": [
        "number = 7\n",
        "if number % 2 == 0:\n",
        "    print(number, \"is even\")\n",
        "else:\n",
        "    print(number, \"is odd\")"
      ]
    },
    {
      "cell_type": "markdown",
      "id": "dc82263f",
      "metadata": {
        "id": "dc82263f"
      },
      "source": [
        "### Activity 3 – FizzBuzz Lite\n",
        "Write a loop that prints numbers 1‑20. For multiples of 3 print \"Fizz\", for multiples of 5 print \"Buzz\", and for multiples of both print \"FizzBuzz\"."
      ]
    },
    {
      "cell_type": "code",
      "execution_count": 7,
      "id": "08092ea8",
      "metadata": {
        "colab": {
          "base_uri": "https://localhost:8080/"
        },
        "id": "08092ea8",
        "outputId": "1a491450-9f3a-4c80-a692-c6bb6203b3b3"
      },
      "outputs": [
        {
          "name": "stdout",
          "output_type": "stream",
          "text": [
            "FizzBuzz\n",
            "1\n",
            "2\n",
            "Fizz\n",
            "4\n",
            "Buzz\n",
            "Fizz\n",
            "7\n",
            "8\n",
            "Fizz\n",
            "Buzz\n",
            "11\n",
            "Fizz\n",
            "13\n",
            "14\n",
            "FizzBuzz\n",
            "16\n",
            "17\n",
            "Fizz\n",
            "19\n",
            "Buzz\n"
          ]
        }
      ],
      "source": [
        "for i in range(21):\n",
        "  if i % 3 == 0 and i % 5 == 0:\n",
        "    print(\"FizzBuzz\")\n",
        "  elif i % 3 == 0:\n",
        "    print(\"Fizz\")\n",
        "  elif i % 5 == 0:\n",
        "    print(\"Buzz\")\n",
        "  else:\n",
        "    print(i)"
      ]
    },
    {
      "cell_type": "markdown",
      "id": "2a9b92b6",
      "metadata": {
        "id": "2a9b92b6"
      },
      "source": [
        "## 5. Writing Functions\n",
        "Functions bundle reusable logic."
      ]
    },
    {
      "cell_type": "code",
      "execution_count": 8,
      "id": "cbf6f817",
      "metadata": {
        "colab": {
          "base_uri": "https://localhost:8080/"
        },
        "id": "cbf6f817",
        "outputId": "631d2822-d243-47b2-a887-00397536cd6e"
      },
      "outputs": [
        {
          "name": "stdout",
          "output_type": "stream",
          "text": [
            "Hello, Data Scientist!\n"
          ]
        }
      ],
      "source": [
        "def greet(name):\n",
        "    \"\"\"Return a friendly greeting\"\"\"\n",
        "    return f\"Hello, {name}!\"\n",
        "\n",
        "print(greet('Data Scientist'))"
      ]
    },
    {
      "cell_type": "markdown",
      "id": "ad7cc8b8",
      "metadata": {
        "id": "ad7cc8b8"
      },
      "source": [
        "### Activity 4 – Fibonacci Function\n",
        "Implement `fib(n)` that returns the n‑th Fibonacci number (`fib(0)=0`, `fib(1)=1`). Test that `fib(10)` is 55."
      ]
    },
    {
      "cell_type": "code",
      "execution_count": 9,
      "id": "be2e43b9",
      "metadata": {
        "colab": {
          "base_uri": "https://localhost:8080/"
        },
        "id": "be2e43b9",
        "outputId": "7221a56e-267d-4961-887a-54ab46bdd578"
      },
      "outputs": [
        {
          "name": "stdout",
          "output_type": "stream",
          "text": [
            "55\n"
          ]
        }
      ],
      "source": [
        "def fib(n):\n",
        "  if n <= 1: return n\n",
        "  return fib(n-1)+fib(n-2)\n",
        "\n",
        "print(fib(10))"
      ]
    },
    {
      "cell_type": "markdown",
      "id": "dfcbf6cb",
      "metadata": {
        "id": "dfcbf6cb"
      },
      "source": [
        "## 6. Importing Libraries"
      ]
    },
    {
      "cell_type": "code",
      "execution_count": 10,
      "id": "db261143",
      "metadata": {
        "colab": {
          "base_uri": "https://localhost:8080/",
          "height": 452
        },
        "id": "db261143",
        "outputId": "666cac77-d5ee-4158-8cab-1693fc38b209"
      },
      "outputs": [
        {
          "data": {
            "image/png": "[encoded data removed]",
            "text/plain": [
              "<Figure size 640x480 with 1 Axes>"
            ]
          },
          "metadata": {},
          "output_type": "display_data"
        }
      ],
      "source": [
        "import math\n",
        "import random\n",
        "import numpy as np\n",
        "import matplotlib.pyplot as plt\n",
        "\n",
        "samples = np.random.randn(1000)\n",
        "plt.hist(samples, bins=30)\n",
        "plt.title('Histogram of Normal Samples')\n",
        "plt.show()"
      ]
    },
    {
      "cell_type": "markdown",
      "id": "4a5d0c12",
      "metadata": {
        "id": "4a5d0c12"
      },
      "source": [
        "### Activity 5 – Dice Simulation\n",
        "Simulate rolling two six‑sided dice 10 000 times with `numpy.random.randint`. Plot a histogram of the sums."
      ]
    },
    {
      "cell_type": "code",
      "execution_count": 11,
      "id": "6adaed3d",
      "metadata": {
        "colab": {
          "base_uri": "https://localhost:8080/",
          "height": 452
        },
        "id": "6adaed3d",
        "outputId": "36718d7e-f99c-4048-e14b-d32ff94273e6"
      },
      "outputs": [
        {
          "data": {
            "image/png": "[encoded data removed]",
            "text/plain": [
              "<Figure size 640x480 with 1 Axes>"
            ]
          },
          "metadata": {},
          "output_type": "display_data"
        }
      ],
      "source": [
        "import math\n",
        "import random\n",
        "import numpy as np\n",
        "import matplotlib.pyplot as plt\n",
        "\n",
        "sums = []\n",
        "\n",
        "for _ in range(10000):\n",
        "  num1 = np.random.randint(1,7)\n",
        "  num2 = np.random.randint(1,7)\n",
        "  sums.append(num1+num2)\n",
        "\n",
        "plt.hist(sums)\n",
        "plt.title('Sum of Dice Rolls')\n",
        "plt.show()"
      ]
    },
    {
      "cell_type": "markdown",
      "id": "bc223ffc",
      "metadata": {
        "id": "bc223ffc"
      },
      "source": [
        "## 7. Markdown Tips\n",
        "Use Markdown cells to explain your work:\n",
        "- `#` to `######` for headings\n",
        "- `**bold**` or `*italics*`\n",
        "- LaTeX math: `$E = mc^2$`\n",
        "\n",
        "Add a Markdown cell below explaining, in your own words, what a function is and why it’s useful."
      ]
    },
    {
      "cell_type": "markdown",
      "id": "RZmo9SDalQYu",
      "metadata": {
        "id": "RZmo9SDalQYu"
      },
      "source": [
        "# Why Functions Are Useful\n",
        "\n",
        "Functions are used to compartmentalize code, so we don't have to write the same lines of code over and over again. For example a function that finds the number of divisors of a number can be easily called, making the code cleaner and easier to modify."
      ]
    },
    {
      "cell_type": "markdown",
      "id": "af2228ad",
      "metadata": {
        "id": "af2228ad"
      },
      "source": [
        "## 8. Version Control with Git & GitHub\n",
        "### Why version control?\n",
        "- Tracks changes to your code over time, like \"Track Changes\" in a document.\n",
        "- Enables collaboration without overwriting each other's work.\n",
        "- Provides an off‑site backup.\n",
        "\n",
        "We will use **GitHub Classroom** occasionally to provide each student with a private repository or will walk you through steps to create a repo for an assignment."
      ]
    },
    {
      "cell_type": "markdown",
      "id": "PVW9IAa32Fnx",
      "metadata": {
        "id": "PVW9IAa32Fnx"
      },
      "source": [
        "Sign up for GitHub if you have not already (or create a new one if you would like a new account) and share it in the following Google Form: [Link](https://docs.google.com/forms/d/e/1FAIpQLSdDg85PuiLlqXGdqvoHoIwsi0IgcHkgCp8JsvI-Fkq25y4TMQ/viewform?usp=dialog)"
      ]
    },
    {
      "cell_type": "markdown",
      "id": "aT68I8YsDFul",
      "metadata": {
        "id": "aT68I8YsDFul"
      },
      "source": [
        "TODO: Create a new public repository on GitHub and clone it in below:\n",
        "\n",
        "Code:\n",
        "\n",
        "!git clone https://github.com/example/repository.git.\n"
      ]
    },
    {
      "cell_type": "markdown",
      "id": "08304588",
      "metadata": {
        "id": "08304588"
      },
      "source": [
        "## Advanced Challenge Exercises\n",
        "These are optional stretch problems for students with prior coding experience.\n",
        "\n",
        "1. **List Comprehension Speed‑Up**  \n",
        "   Generate the squares of all integers from 1 to 100 000. Compare the runtime of a traditional `for` loop vs. a list comprehension using `timeit`. Plot the timing results. Further reading: https://www.geeksforgeeks.org/python/python-list-comprehension/\n",
        "\n",
        "2. **Dictionary Comprehension Puzzle**  \n",
        "   Create a dictionary that maps each lowercase letter `a‑z` to its numerical position in the alphabet **without** typing the alphabet explicitly (i.e., A is position 0, B is position 1). Further reading: https://www.geeksforgeeks.org/python/python-dictionary/\n",
        "\n",
        "3. **NumPy Broadcasting Art**  \n",
        "   Use NumPy broadcasting to create a 2‑D array that represents a grayscale image of concentric circles (hint: compute distance from the center). Display it with `plt.imshow()`.\n",
        "\n",
        "4. **Prime Checker Function**  \n",
        "   Implement `is_prime(n)` efficiently for `n ≤ 10^6`. Test it on the following primes: 2, 3, 5, 7, 9973\n",
        "\n",
        "Choose any you like and work below."
      ]
    },
    {
      "cell_type": "code",
      "execution_count": 12,
      "id": "1a8b4b7f",
      "metadata": {
        "id": "1a8b4b7f"
      },
      "outputs": [],
      "source": [
        "# Start your advanced solutions here\n"
      ]
    }
  ],
  "metadata": {
    "accelerator": "GPU",
    "colab": {
      "gpuType": "T4",
      "provenance": []
    },
    "kernelspec": {
      "display_name": "base",
      "language": "python",
      "name": "python3"
    },
    "language_info": {
      "codemirror_mode": {
        "name": "ipython",
        "version": 3
      },
      "file_extension": ".py",
      "mimetype": "text/x-python",
      "name": "python",
      "nbconvert_exporter": "python",
      "pygments_lexer": "ipython3",
      "version": "3.13.5"
    }
  },
  "nbformat": 4,
  "nbformat_minor": 5
}
