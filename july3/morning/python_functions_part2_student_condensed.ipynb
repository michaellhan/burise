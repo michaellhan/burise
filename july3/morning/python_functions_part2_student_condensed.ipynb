{
  "cells": [
    {
      "cell_type": "markdown",
      "id": "a77a1c94",
      "metadata": {
        "id": "a77a1c94"
      },
      "source": [
        "# Morning Lecture  \n",
        "\n",
        "### Use one of your existing enviornments that isn't base"
      ]
    },
    {
      "cell_type": "markdown",
      "id": "603144eb",
      "metadata": {
        "id": "603144eb"
      },
      "source": [
        "# Functions\n",
        "\n",
        "A **function** packages a reusable computation that can be called from anywhere in your notebook or other Python files.\n"
      ]
    },
    {
      "cell_type": "markdown",
      "id": "968c09b5",
      "metadata": {
        "id": "968c09b5"
      },
      "source": [
        "### 1  Defining a function\n",
        "\n",
        "```python\n",
        "def function_name(param1, param2='default'):\n",
        "    \"\"\"One-sentence summary of what the function does.\n",
        "\n",
        "    Parameters\n",
        "    ----------\n",
        "    param1 : type\n",
        "        Meaning of the parameter.\n",
        "    param2 : type, default 'default'\n",
        "        Optional parameter with a default value.\n",
        "\n",
        "    Returns\n",
        "    -------\n",
        "    something : type\n",
        "        Description of returned value.\n",
        "    \"\"\"\n",
        "    # body\n",
        "    result = do_something(param1, param2)\n",
        "    return result\n",
        "```\n"
      ]
    },
    {
      "cell_type": "code",
      "execution_count": 11,
      "id": "6147a7d5",
      "metadata": {
        "id": "6147a7d5"
      },
      "outputs": [
        {
          "name": "stdout",
          "output_type": "stream",
          "text": [
            "Hello Patrick!\n"
          ]
        }
      ],
      "source": [
        "# Try editing and running this example:\n",
        "\n",
        "# TODO: write a greet function\n",
        "\n",
        "def greet(name):\n",
        "    return f\"Hello {name}!\"\n",
        "\n",
        "print(greet(\"Patrick\"))"
      ]
    },
    {
      "cell_type": "markdown",
      "id": "36ca1185",
      "metadata": {
        "id": "36ca1185"
      },
      "source": [
        "> **Exercise 1 — Fahrenheit → Celsius**  \n",
        "> Write a function `to_celsius(f_temp)` that converts Fahrenheit to Celsius with one line of code and returns the result.  \n",
        "> **Stretch:** Modify it to optionally return Kelvin when `scale='K'`.\n"
      ]
    },
    {
      "cell_type": "code",
      "execution_count": 13,
      "id": "68a72d54",
      "metadata": {
        "id": "68a72d54"
      },
      "outputs": [
        {
          "name": "stdout",
          "output_type": "stream",
          "text": [
            "32.22222222222222\n"
          ]
        }
      ],
      "source": [
        "# YOUR CODE HERE\n",
        "\n",
        "def to_celsius(f_temp):\n",
        "    return (5/9)*(f_temp-32)\n",
        "\n",
        "print(to_celsius(90))"
      ]
    },
    {
      "cell_type": "markdown",
      "id": "5d1bf604",
      "metadata": {
        "id": "5d1bf604"
      },
      "source": [
        "## 2  Using Modules\n",
        "\n",
        "A *module* is a Python file that provides variables, functions, or classes.  \n",
        "We’ll explore the built-in `math` and `random` modules, then import third-party `pandas`.\n"
      ]
    },
    {
      "cell_type": "code",
      "execution_count": 3,
      "id": "4181a324",
      "metadata": {
        "id": "4181a324"
      },
      "outputs": [],
      "source": [
        "# TODO: play with math and random modules (i.e., look up some functions in them)\n"
      ]
    },
    {
      "cell_type": "markdown",
      "id": "a083a259",
      "metadata": {
        "id": "a083a259"
      },
      "source": [
        "## 3  File I/O with CSV\n",
        "\n",
        "CSV (comma-separated values) are a very common data type.\n",
        "Two common approaches:\n",
        "\n",
        "1. **`csv` module** - part of the standard library.  \n",
        "2. **`pandas.read_csv`** - more powerful, returns a DataFrame.\n"
      ]
    },
    {
      "cell_type": "code",
      "execution_count": 1,
      "id": "9b08fad8",
      "metadata": {
        "id": "9b08fad8"
      },
      "outputs": [
        {
          "name": "stdout",
          "output_type": "stream",
          "text": [
            "sample_data.csv created with sample rows:\n",
            "      Name  Age  Score\n",
            "0    Alice   25   88.5\n",
            "1      Bob   30   92.0\n",
            "2  Charlie   35   79.5\n",
            "3    Diana   40   85.0\n"
          ]
        }
      ],
      "source": [
        "import pandas as pd\n",
        "\n",
        "# Create a sample DataFrame\n",
        "data = {\n",
        "    \"Name\": [\"Alice\", \"Bob\", \"Charlie\", \"Diana\"],\n",
        "    \"Age\": [25, 30, 35, 40],\n",
        "    \"Score\": [88.5, 92.0, 79.5, 85.0]\n",
        "}\n",
        "df_sample = pd.DataFrame(data)\n",
        "\n",
        "# Save it as a CSV\n",
        "df_sample.to_csv(\"sample_data.csv\", index=False)\n",
        "print(\"sample_data.csv created with sample rows:\")\n",
        "print(df_sample)"
      ]
    },
    {
      "cell_type": "code",
      "execution_count": 5,
      "id": "ed0a3df4",
      "metadata": {
        "id": "ed0a3df4"
      },
      "outputs": [],
      "source": [
        "# TODO: read the provided sample_data.csv\n"
      ]
    },
    {
      "cell_type": "markdown",
      "id": "e8977c19",
      "metadata": {
        "id": "e8977c19"
      },
      "source": [
        "> **Exercise 2 — Random Walk Logger**  \n",
        "> 1. Simulate 100 steps of a 1-D random walk (`+1` or `-1` per step).  \n",
        "> 2. Store cumulative positions in a Python list.  \n",
        "> - Save the result to `random_walk.csv` with two columns: `step`, `position`.  \n",
        "> 4. Reload the CSV with `pandas` and plot the walk (hint: `df.plot.line()`).\n"
      ]
    },
    {
      "cell_type": "code",
      "execution_count": null,
      "id": "25af9acf",
      "metadata": {
        "id": "25af9acf"
      },
      "outputs": [
        {
          "data": {
            "text/plain": [
              "<Axes: xlabel='step'>"
            ]
          },
          "execution_count": 23,
          "metadata": {},
          "output_type": "execute_result"
        },
        {
          "data": {
            "image/png": "[encoded data removed]",
            "text/plain": [
              "<Figure size 640x480 with 1 Axes>"
            ]
          },
          "metadata": {},
          "output_type": "display_data"
        }
      ],
      "source": [
        "# YOUR CODE HERE\n",
        "\n",
        "import random\n",
        "import pandas as pd\n",
        "\n",
        "pos = [0] * 100\n",
        "\n",
        "for i in range(99):\n",
        "    pos[i+1] = pos[i] + random.choice([-1, 1])\n",
        "\n",
        "step = list(range(100))\n",
        "df = pd.DataFrame(zip(step, pos), columns=[\"step\", \"position\"])\n",
        "df.to_csv('walk.csv', index=False)\n",
        "df.plot.line(x='step', y='position')\n",
        "\n"
      ]
    },
    {
      "cell_type": "code",
      "execution_count": null,
      "id": "21ccbf41",
      "metadata": {},
      "outputs": [],
      "source": []
    }
  ],
  "metadata": {
    "colab": {
      "provenance": []
    },
    "kernelspec": {
      "display_name": "base",
      "language": "python",
      "name": "python3"
    },
    "language_info": {
      "codemirror_mode": {
        "name": "ipython",
        "version": 3
      },
      "file_extension": ".py",
      "mimetype": "text/x-python",
      "name": "python",
      "nbconvert_exporter": "python",
      "pygments_lexer": "ipython3",
      "version": "3.13.5"
    }
  },
  "nbformat": 4,
  "nbformat_minor": 5
}
